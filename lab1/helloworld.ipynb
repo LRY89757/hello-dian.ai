{
 "cells": [
  {
   "cell_type": "code",
   "execution_count": null,
   "metadata": {},
   "outputs": [],
   "source": [
    "# %load helloworld.py\n",
    "# %%\n",
    "import numpy as np\n",
    "import matplotlib.pyplot as plt\n",
    "import nn\n",
    "\n",
    "\n",
    "def gen_data(num):\n",
    "    x1 = np.random.multivariate_normal([-0.5, -2], [[1, .75], [.75, 1]], num)\n",
    "    x2 = np.random.multivariate_normal([0.5, 2], [[1, .75], [.75, 1]], num)\n",
    "    X = np.vstack((x1, x2)).astype(np.float32)\n",
    "    y = np.hstack((np.zeros(num), np.ones(num)))\n",
    "    return X, y\n",
    "\n",
    "\n",
    "def plot_data(X, y):\n",
    "    plt.scatter(X[y==0, 0], X[y==0, 1], color='red')\n",
    "    plt.scatter(X[y==1, 0], X[y==1, 1], color='blue')\n",
    "    plt.show()\n",
    "\n",
    "\n",
    "def plot_clf(clf, X, y):\n",
    "    xx, yy = np.meshgrid(np.linspace(-4, 4, 500), np.linspace(-4, 4, 500))\n",
    "    xy = np.c_[xx.ravel(), yy.ravel()]\n",
    "    Z = np.where(clf(xy) >= 0, 1, 0)\n",
    "    Z = Z.reshape(xx.shape)\n",
    "    plt.contour(xx, yy, Z, levels=[0], colors='black')\n",
    "    plot_data(X, y)\n",
    "\n",
    "\n",
    "def main():\n",
    "    X, y = gen_data(100)\n",
    "    plot_data(X, y)\n",
    "\n",
    "    model = nn.Linear(2, 1)\n",
    "    for i in range(20):\n",
    "        probs = model(X)\n",
    "        preds = np.where(probs >= 0, 1, 0)\n",
    "        model.backward(preds - y.reshape(-1, 1))\n",
    "        model.w -= 1e-2 * model.w.grad\n",
    "        plot_clf(model, X, y)\n",
    "        print(f'acc: {np.sum(preds == y.reshape(-1, 1)) / len(y):.2f}')\n",
    "\n",
    "\n",
    "if __name__ == '__main__':\n",
    "    main()\n"
   ]
  },
  {
   "cell_type": "code",
   "execution_count": null,
   "metadata": {},
   "outputs": [],
   "source": []
  }
 ],
 "metadata": {
  "kernelspec": {
   "display_name": "Python [conda env:pytorch_cpu]",
   "language": "python",
   "name": "conda-env-pytorch_cpu-py"
  },
  "language_info": {
   "codemirror_mode": {
    "name": "ipython",
    "version": 3
   },
   "file_extension": ".py",
   "mimetype": "text/x-python",
   "name": "python",
   "nbconvert_exporter": "python",
   "pygments_lexer": "ipython3",
   "version": "3.8.8"
  }
 },
 "nbformat": 4,
 "nbformat_minor": 4
}
